{
 "cells": [
  {
   "cell_type": "code",
   "execution_count": null,
   "metadata": {},
   "outputs": [],
   "source": [
    "import os\n",
    "from langchain.vectorstores import FAISS\n",
    "from langchain.embeddings.openai import OpenAIEmbeddings\n",
    "from langchain.chains import RetrievalQA\n",
    "from langchain.llms import OpenAI\n",
    "from langchain.schema import Document\n",
    "\n",
    "# Set up environment variables\n",
    "os.environ[\"OPENAI_API_KEY\"] = \"OPENAI_API_KEY\"\n",
    "\n",
    "# Sample documents\n",
    "documents = [\n",
    "    {\"text\": \"LangChain is a framework for building applications with LLMs.\", \"id\": \"1\"},\n",
    "    {\"text\": \"Retrieval-Augmented Generation (RAG) combines retrieval and generation.\", \"id\": \"2\"},\n",
    "    {\"text\": \"OpenAI provides powerful language models such as GPT-4.\", \"id\": \"3\"},\n",
    "]\n",
    "\n",
    "# Convert dictionaries to Document objects\n",
    "documents = [Document(page_content=doc[\"text\"], metadata={\"id\": doc[\"id\"]}) for doc in documents]\n",
    "\n",
    "# Initialize the OpenAI Embeddings\n",
    "embeddings = OpenAIEmbeddings()\n",
    "\n",
    "# Create a FAISS vector store from documents\n",
    "faiss_store = FAISS.from_documents(documents, embeddings)\n",
    "\n",
    "# Initialize the OpenAI LLM\n",
    "llm = OpenAI(temperature=0.7)\n",
    "\n",
    "# Create the Retrieval-Augmented Generation pipeline\n",
    "rag = RetrievalQA(llm=llm, retriever=faiss_store.as_retriever())\n",
    "\n",
    "# Run the RAG pipeline\n",
    "question = \"What is Retrieval-Augmented Generation?\"\n",
    "result = rag({\"query\": question})\n",
    "\n",
    "print(\"Question:\", question)\n",
    "print(\"Answer:\", result[\"result\"])\n"
   ]
  }
 ],
 "metadata": {
  "kernelspec": {
   "display_name": "Python 3",
   "language": "python",
   "name": "python3"
  },
  "language_info": {
   "codemirror_mode": {
    "name": "ipython",
    "version": 3
   },
   "file_extension": ".py",
   "mimetype": "text/x-python",
   "name": "python",
   "nbconvert_exporter": "python",
   "pygments_lexer": "ipython3",
   "version": "3.10.0"
  }
 },
 "nbformat": 4,
 "nbformat_minor": 2
}
